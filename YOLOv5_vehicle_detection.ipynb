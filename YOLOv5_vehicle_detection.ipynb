{
  "nbformat": 4,
  "nbformat_minor": 0,
  "metadata": {
    "colab": {
      "name": "YOLOv5-vehicle-detection.ipynb",
      "private_outputs": true,
      "provenance": [],
      "collapsed_sections": [],
      "authorship_tag": "ABX9TyM7epUSysDZ+PkVqkilvKKf"
    },
    "kernelspec": {
      "name": "python3",
      "display_name": "Python 3"
    },
    "language_info": {
      "name": "python"
    },
    "accelerator": "GPU"
  },
  "cells": [
    {
      "cell_type": "code",
      "execution_count": null,
      "metadata": {
        "id": "H09ptzFsPZTw"
      },
      "outputs": [],
      "source": [
        "!git clone https://github.com/ultralytics/yolov5  # clone repo\n",
        "!pip install -U -r yolov5/requirements.txt  # install dependencies"
      ]
    },
    {
      "cell_type": "code",
      "source": [
        "#installing for google colab GPU use\n",
        "!pip install torch==1.6.0+cu101 torchvision==0.7.0+cu101 -f https://download.pytorch.org/whl/torch_stable.html"
      ],
      "metadata": {
        "id": "2zQYRRlXPkGv"
      },
      "execution_count": null,
      "outputs": []
    },
    {
      "cell_type": "code",
      "source": [
        "%cd /content/yolov5"
      ],
      "metadata": {
        "id": "aBJBW6VpQgc1"
      },
      "execution_count": null,
      "outputs": []
    },
    {
      "cell_type": "code",
      "source": [
        "import torch\n",
        "from IPython.display import Image  # for displaying images\n",
        "\n",
        "print('Using torch %s %s' % (torch.__version__, torch.cuda.get_device_properties(0) if torch.cuda.is_available() else 'CPU'))"
      ],
      "metadata": {
        "id": "p6KquaWfQibd"
      },
      "execution_count": null,
      "outputs": []
    },
    {
      "cell_type": "code",
      "source": [
        "# You need to sign up in roboflow to get the key and then you can use the dataset\n",
        "!curl -L \"https://public.roboflow.com/ds/APP KEY\" > roboflow.zip; unzip roboflow.zip; rm roboflow.zip"
      ],
      "metadata": {
        "id": "G104kzWzSdd9"
      },
      "execution_count": null,
      "outputs": []
    },
    {
      "cell_type": "code",
      "source": [
        "%cat data.yaml"
      ],
      "metadata": {
        "id": "-KwaxilqSjMO"
      },
      "execution_count": null,
      "outputs": []
    },
    {
      "cell_type": "code",
      "source": [
        "# define number of classes based on YAML\n",
        "# data.yaml contains the information about number of classes and their labels required for this project\n",
        "import yaml\n",
        "with open(\"data.yaml\", 'r') as stream:\n",
        "    num_classes = str(yaml.safe_load(stream)['nc'])"
      ],
      "metadata": {
        "id": "xXVUmWtUTaxy"
      },
      "execution_count": null,
      "outputs": []
    },
    {
      "cell_type": "code",
      "source": [
        "#customize iPython writefile so we can write variables\n",
        "from IPython.core.magic import register_line_cell_magic\n",
        "\n",
        "@register_line_cell_magic\n",
        "def writetemplate(line, cell):\n",
        "    with open(line, 'w') as f:\n",
        "        f.write(cell.format(**globals()))"
      ],
      "metadata": {
        "id": "1s56klr2TdY0"
      },
      "execution_count": null,
      "outputs": []
    },
    {
      "cell_type": "code",
      "source": [
        "# Below we are changing the data configuration for right path to the dataset\n",
        "%%writetemplate /content/yolov5/data.yaml\n",
        "\n",
        "train: ./train/images\n",
        "val: ./valid/images\n",
        "\n",
        "nc: 5\n",
        "names: ['Ambulance', 'Bus', 'Car', 'Motorcycle', 'Truck']\n"
      ],
      "metadata": {
        "id": "lbpmD3bgTezN"
      },
      "execution_count": null,
      "outputs": []
    },
    {
      "cell_type": "code",
      "source": [
        "%cat data.yaml"
      ],
      "metadata": {
        "id": "6MRWPSNeThzs"
      },
      "execution_count": null,
      "outputs": []
    },
    {
      "cell_type": "code",
      "source": [
        "with open(r'data.yaml') as file:\n",
        "    # The FullLoader parameter handles the conversion from YAML\n",
        "    # scalar values to Python the dictionary format\n",
        "    labels_list = yaml.load(file, Loader=yaml.FullLoader)\n",
        "\n",
        "    label_names = labels_list['names']"
      ],
      "metadata": {
        "id": "_5BAxm-DTlNf"
      },
      "execution_count": null,
      "outputs": []
    },
    {
      "cell_type": "code",
      "source": [
        "print(\"\"\"Number of Classes: {}, \n",
        "Labels: {}\"\"\".format(num_classes,label_names))"
      ],
      "metadata": {
        "id": "LxTmOTdHTp6k"
      },
      "execution_count": null,
      "outputs": []
    },
    {
      "cell_type": "code",
      "source": [
        "#this is the model configuration we will use for our tutorial \n",
        "# yolov5s.yaml contains the configuration of neural network required for training.\n",
        "%cat /content/yolov5/models/yolov5s.yaml"
      ],
      "metadata": {
        "id": "hQE5MdypTrXO"
      },
      "execution_count": null,
      "outputs": []
    },
    {
      "cell_type": "code",
      "source": [
        "# Below we are changing the configuration so that it becomes compatible to number of classes required in this project\n",
        "%%writetemplate /content/yolov5/models/custom_yolov5s.yaml\n",
        "\n",
        "# parameters\n",
        "nc: {num_classes}  # number of classes  # CHANGED HERE\n",
        "depth_multiple: 0.33  # model depth multiple\n",
        "width_multiple: 0.50  # layer channel multiple\n",
        "\n",
        "# anchors\n",
        "anchors:\n",
        "  - [10,13, 16,30, 33,23]  # P3/8\n",
        "  - [30,61, 62,45, 59,119]  # P4/16\n",
        "  - [116,90, 156,198, 373,326]  # P5/32\n",
        "\n",
        "# YOLOv5 backbone\n",
        "backbone:\n",
        "  # [from, number, module, args]\n",
        "  [[-1, 1, Focus, [64, 3]],  # 0-P1/2\n",
        "   [-1, 1, Conv, [128, 3, 2]],  # 1-P2/4\n",
        "   [-1, 3, BottleneckCSP, [128]],\n",
        "   [-1, 1, Conv, [256, 3, 2]],  # 3-P3/8\n",
        "   [-1, 9, BottleneckCSP, [256]],\n",
        "   [-1, 1, Conv, [512, 3, 2]],  # 5-P4/16\n",
        "   [-1, 9, BottleneckCSP, [512]],\n",
        "   [-1, 1, Conv, [1024, 3, 2]],  # 7-P5/32\n",
        "   [-1, 1, SPP, [1024, [5, 9, 13]]],\n",
        "   [-1, 3, BottleneckCSP, [1024, False]],  # 9\n",
        "  ]\n",
        "\n",
        "# YOLOv5 head\n",
        "head:\n",
        "  [[-1, 1, Conv, [512, 1, 1]],\n",
        "   [-1, 1, nn.Upsample, [None, 2, 'nearest']],\n",
        "   [[-1, 6], 1, Concat, [1]],  # cat backbone P4\n",
        "   [-1, 3, BottleneckCSP, [512, False]],  # 13\n",
        "\n",
        "   [-1, 1, Conv, [256, 1, 1]],\n",
        "   [-1, 1, nn.Upsample, [None, 2, 'nearest']],\n",
        "   [[-1, 4], 1, Concat, [1]],  # cat backbone P3\n",
        "   [-1, 3, BottleneckCSP, [256, False]],  # 17 (P3/8-small)\n",
        "\n",
        "   [-1, 1, Conv, [256, 3, 2]],\n",
        "   [[-1, 14], 1, Concat, [1]],  # cat head P4\n",
        "   [-1, 3, BottleneckCSP, [512, False]],  # 20 (P4/16-medium)\n",
        "\n",
        "   [-1, 1, Conv, [512, 3, 2]],\n",
        "   [[-1, 10], 1, Concat, [1]],  # cat head P5\n",
        "   [-1, 3, BottleneckCSP, [1024, False]],  # 23 (P5/32-large)\n",
        "\n",
        "   [[17, 20, 23], 1, Detect, [nc, anchors]],  # Detect(P3, P4, P5)\n",
        "  ]"
      ],
      "metadata": {
        "id": "J1nXlAP_T5Rd"
      },
      "execution_count": null,
      "outputs": []
    },
    {
      "cell_type": "code",
      "source": [
        "import os\n",
        "os.chdir('/content/yolov5')"
      ],
      "metadata": {
        "id": "1CwXgGFwT7oj"
      },
      "execution_count": null,
      "outputs": []
    },
    {
      "cell_type": "code",
      "source": [
        "# train yolov5s on Aquarium object detection data for 100 epochs [aroung 1000 epochs for better training and result]\n",
        "# NOTE: All the images are already pre-processed to 416 x 416 size.\n",
        "# We will be training for 100 epoch (increase it for better result) with batch size of 80\n",
        "# data.yaml also contains the information about location of Train and Validation Data. That's how you get the train data.\n",
        "# the training also requires the configuration of neural network, which is in custom_yolov5s.yaml\n",
        "# weights will be by-default stored at /content/yolov5/runs/exp2/weights/best.pt\n",
        "# time its performance\n",
        "%%time\n",
        "%cd /content/yolov5/\n",
        "!python train.py --img 416 --batch 80 --epochs 100 --data './data.yaml' --cfg ./models/custom_yolov5s.yaml --weights ''"
      ],
      "metadata": {
        "id": "AQ-rDOsPT-MK"
      },
      "execution_count": null,
      "outputs": []
    },
    {
      "cell_type": "code",
      "source": [
        "print(\"TRAINING DATA PERFORMANCE:\")\n",
        "Image(filename='/content/yolov5/runs/train/exp7/val_batch1_labels.jpg', width=900)"
      ],
      "metadata": {
        "id": "FsIyU_QIaB6O"
      },
      "execution_count": null,
      "outputs": []
    },
    {
      "cell_type": "code",
      "source": [
        "print(\"AUGMENTED TRAINING DATA:\")\n",
        "Image(filename='/content/yolov5/runs/train/exp7/train_batch1.jpg', width=900)"
      ],
      "metadata": {
        "id": "fY82rgDdtUzm"
      },
      "execution_count": null,
      "outputs": []
    },
    {
      "cell_type": "code",
      "source": [
        "# use the best weights!\n",
        "# Final weights will be by-default stored at /content/yolov5/runs/train/exp2/weights/best.pt\n",
        "%cd /content/yolov5/\n",
        "!python detect.py --weights /content/yolov5/runs/train/exp7/weights/best.pt --img 416 --conf 0.4 --source ./test/images"
      ],
      "metadata": {
        "id": "GLJvNWHZteFU"
      },
      "execution_count": null,
      "outputs": []
    },
    {
      "cell_type": "code",
      "source": [
        "import glob\n",
        "from IPython.display import Image, display\n",
        "\n",
        "for imageName in glob.glob('/content/yolov5/runs/detect/exp/*.jpg'): #assuming JPG\n",
        "    display(Image(filename=imageName))\n",
        "    print(\"\\n\")"
      ],
      "metadata": {
        "id": "e-HIEJ4Btort"
      },
      "execution_count": null,
      "outputs": []
    },
    {
      "cell_type": "code",
      "source": [
        "from google.colab import drive\n",
        "drive.mount('/content/gdrive')\n",
        "\n",
        "%cp /content/yolov5/runs/train/exp7/weights/vehicle_detection.pt /content/gdrive/MyDrive/"
      ],
      "metadata": {
        "id": "tRqTO6Uwt7F1"
      },
      "execution_count": null,
      "outputs": []
    },
    {
      "cell_type": "code",
      "source": [
        "#run detection on sample video\n",
        "\n",
        "%cd /content/yolov5/\n",
        "!python detect.py --weights /content/yolov5/runs/train/exp7/weights/vehicle_detection.pt --source '/content/gdrive/MyDrive/vids/Los-Angeles-vid.mp4'"
      ],
      "metadata": {
        "id": "7mmfbJCOuPot"
      },
      "execution_count": null,
      "outputs": []
    },
    {
      "cell_type": "code",
      "source": [
        ""
      ],
      "metadata": {
        "id": "6uKMhP_uugk0"
      },
      "execution_count": null,
      "outputs": []
    }
  ]
}